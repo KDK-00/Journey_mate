{
 "cells": [
  {
   "cell_type": "markdown",
   "metadata": {},
   "source": [
    "# 1. 패키지 설치"
   ]
  },
  {
   "cell_type": "code",
   "execution_count": 1,
   "metadata": {},
   "outputs": [
    {
     "name": "stdout",
     "output_type": "stream",
     "text": [
      "Requirement already satisfied: python-dotenv in c:\\users\\ehd01\\anaconda3\\envs\\test-env3\\lib\\site-packages (1.0.1)\n",
      "Requirement already satisfied: langchain in c:\\users\\ehd01\\anaconda3\\envs\\test-env3\\lib\\site-packages (0.2.15)\n",
      "Requirement already satisfied: langchain-upstage in c:\\users\\ehd01\\anaconda3\\envs\\test-env3\\lib\\site-packages (0.1.8)\n",
      "Requirement already satisfied: langchain-community in c:\\users\\ehd01\\anaconda3\\envs\\test-env3\\lib\\site-packages (0.2.15)\n",
      "Requirement already satisfied: langchain-text-splitters in c:\\users\\ehd01\\anaconda3\\envs\\test-env3\\lib\\site-packages (0.2.2)\n",
      "Requirement already satisfied: langchain-chroma in c:\\users\\ehd01\\anaconda3\\envs\\test-env3\\lib\\site-packages (0.1.3)\n",
      "Requirement already satisfied: PyYAML>=5.3 in c:\\users\\ehd01\\anaconda3\\envs\\test-env3\\lib\\site-packages (from langchain) (6.0.1)\n",
      "Requirement already satisfied: SQLAlchemy<3,>=1.4 in c:\\users\\ehd01\\anaconda3\\envs\\test-env3\\lib\\site-packages (from langchain) (2.0.30)\n",
      "Requirement already satisfied: aiohttp<4.0.0,>=3.8.3 in c:\\users\\ehd01\\anaconda3\\envs\\test-env3\\lib\\site-packages (from langchain) (3.9.5)\n",
      "Requirement already satisfied: async-timeout<5.0.0,>=4.0.0 in c:\\users\\ehd01\\anaconda3\\envs\\test-env3\\lib\\site-packages (from langchain) (4.0.3)\n",
      "Requirement already satisfied: langchain-core<0.3.0,>=0.2.35 in c:\\users\\ehd01\\anaconda3\\envs\\test-env3\\lib\\site-packages (from langchain) (0.2.37)\n",
      "Requirement already satisfied: langsmith<0.2.0,>=0.1.17 in c:\\users\\ehd01\\anaconda3\\envs\\test-env3\\lib\\site-packages (from langchain) (0.1.108)\n",
      "Requirement already satisfied: numpy<2,>=1 in c:\\users\\ehd01\\anaconda3\\envs\\test-env3\\lib\\site-packages (from langchain) (1.26.4)\n",
      "Requirement already satisfied: pydantic<3,>=1 in c:\\users\\ehd01\\anaconda3\\envs\\test-env3\\lib\\site-packages (from langchain) (2.8.2)\n",
      "Requirement already satisfied: requests<3,>=2 in c:\\users\\ehd01\\anaconda3\\envs\\test-env3\\lib\\site-packages (from langchain) (2.32.3)\n",
      "Requirement already satisfied: tenacity!=8.4.0,<9.0.0,>=8.1.0 in c:\\users\\ehd01\\anaconda3\\envs\\test-env3\\lib\\site-packages (from langchain) (8.2.3)\n",
      "Requirement already satisfied: langchain-openai<0.2.0,>=0.1.3 in c:\\users\\ehd01\\anaconda3\\envs\\test-env3\\lib\\site-packages (from langchain-upstage) (0.1.23)\n",
      "Requirement already satisfied: pypdf<5.0.0,>=4.2.0 in c:\\users\\ehd01\\anaconda3\\envs\\test-env3\\lib\\site-packages (from langchain-upstage) (4.3.1)\n",
      "Requirement already satisfied: tokenizers<0.20.0,>=0.19.1 in c:\\users\\ehd01\\anaconda3\\envs\\test-env3\\lib\\site-packages (from langchain-upstage) (0.19.1)\n",
      "Requirement already satisfied: dataclasses-json<0.7,>=0.5.7 in c:\\users\\ehd01\\anaconda3\\envs\\test-env3\\lib\\site-packages (from langchain-community) (0.6.7)\n",
      "Requirement already satisfied: chromadb!=0.5.4,!=0.5.5,<0.6.0,>=0.4.0 in c:\\users\\ehd01\\anaconda3\\envs\\test-env3\\lib\\site-packages (from langchain-chroma) (0.5.3)\n",
      "Requirement already satisfied: fastapi<1,>=0.95.2 in c:\\users\\ehd01\\anaconda3\\envs\\test-env3\\lib\\site-packages (from langchain-chroma) (0.112.2)\n",
      "Requirement already satisfied: aiosignal>=1.1.2 in c:\\users\\ehd01\\anaconda3\\envs\\test-env3\\lib\\site-packages (from aiohttp<4.0.0,>=3.8.3->langchain) (1.2.0)\n",
      "Requirement already satisfied: attrs>=17.3.0 in c:\\users\\ehd01\\anaconda3\\envs\\test-env3\\lib\\site-packages (from aiohttp<4.0.0,>=3.8.3->langchain) (23.1.0)\n",
      "Requirement already satisfied: frozenlist>=1.1.1 in c:\\users\\ehd01\\anaconda3\\envs\\test-env3\\lib\\site-packages (from aiohttp<4.0.0,>=3.8.3->langchain) (1.4.0)\n",
      "Requirement already satisfied: multidict<7.0,>=4.5 in c:\\users\\ehd01\\anaconda3\\envs\\test-env3\\lib\\site-packages (from aiohttp<4.0.0,>=3.8.3->langchain) (6.0.4)\n",
      "Requirement already satisfied: yarl<2.0,>=1.0 in c:\\users\\ehd01\\anaconda3\\envs\\test-env3\\lib\\site-packages (from aiohttp<4.0.0,>=3.8.3->langchain) (1.9.3)\n",
      "Requirement already satisfied: build>=1.0.3 in c:\\users\\ehd01\\anaconda3\\envs\\test-env3\\lib\\site-packages (from chromadb!=0.5.4,!=0.5.5,<0.6.0,>=0.4.0->langchain-chroma) (1.2.1)\n",
      "Requirement already satisfied: chroma-hnswlib==0.7.3 in c:\\users\\ehd01\\anaconda3\\envs\\test-env3\\lib\\site-packages (from chromadb!=0.5.4,!=0.5.5,<0.6.0,>=0.4.0->langchain-chroma) (0.7.3)\n",
      "Requirement already satisfied: uvicorn>=0.18.3 in c:\\users\\ehd01\\anaconda3\\envs\\test-env3\\lib\\site-packages (from uvicorn[standard]>=0.18.3->chromadb!=0.5.4,!=0.5.5,<0.6.0,>=0.4.0->langchain-chroma) (0.30.6)\n",
      "Requirement already satisfied: posthog>=2.4.0 in c:\\users\\ehd01\\anaconda3\\envs\\test-env3\\lib\\site-packages (from chromadb!=0.5.4,!=0.5.5,<0.6.0,>=0.4.0->langchain-chroma) (3.6.0)\n",
      "Requirement already satisfied: typing-extensions>=4.5.0 in c:\\users\\ehd01\\anaconda3\\envs\\test-env3\\lib\\site-packages (from chromadb!=0.5.4,!=0.5.5,<0.6.0,>=0.4.0->langchain-chroma) (4.11.0)\n",
      "Requirement already satisfied: onnxruntime>=1.14.1 in c:\\users\\ehd01\\anaconda3\\envs\\test-env3\\lib\\site-packages (from chromadb!=0.5.4,!=0.5.5,<0.6.0,>=0.4.0->langchain-chroma) (1.19.0)\n",
      "Requirement already satisfied: opentelemetry-api>=1.2.0 in c:\\users\\ehd01\\anaconda3\\envs\\test-env3\\lib\\site-packages (from chromadb!=0.5.4,!=0.5.5,<0.6.0,>=0.4.0->langchain-chroma) (1.27.0)\n",
      "Requirement already satisfied: opentelemetry-exporter-otlp-proto-grpc>=1.2.0 in c:\\users\\ehd01\\anaconda3\\envs\\test-env3\\lib\\site-packages (from chromadb!=0.5.4,!=0.5.5,<0.6.0,>=0.4.0->langchain-chroma) (1.27.0)\n",
      "Requirement already satisfied: opentelemetry-instrumentation-fastapi>=0.41b0 in c:\\users\\ehd01\\anaconda3\\envs\\test-env3\\lib\\site-packages (from chromadb!=0.5.4,!=0.5.5,<0.6.0,>=0.4.0->langchain-chroma) (0.48b0)\n",
      "Requirement already satisfied: opentelemetry-sdk>=1.2.0 in c:\\users\\ehd01\\anaconda3\\envs\\test-env3\\lib\\site-packages (from chromadb!=0.5.4,!=0.5.5,<0.6.0,>=0.4.0->langchain-chroma) (1.27.0)\n",
      "Requirement already satisfied: pypika>=0.48.9 in c:\\users\\ehd01\\anaconda3\\envs\\test-env3\\lib\\site-packages (from chromadb!=0.5.4,!=0.5.5,<0.6.0,>=0.4.0->langchain-chroma) (0.48.9)\n",
      "Requirement already satisfied: tqdm>=4.65.0 in c:\\users\\ehd01\\anaconda3\\envs\\test-env3\\lib\\site-packages (from chromadb!=0.5.4,!=0.5.5,<0.6.0,>=0.4.0->langchain-chroma) (4.66.5)\n",
      "Requirement already satisfied: overrides>=7.3.1 in c:\\users\\ehd01\\anaconda3\\envs\\test-env3\\lib\\site-packages (from chromadb!=0.5.4,!=0.5.5,<0.6.0,>=0.4.0->langchain-chroma) (7.4.0)\n",
      "Requirement already satisfied: importlib-resources in c:\\users\\ehd01\\anaconda3\\envs\\test-env3\\lib\\site-packages (from chromadb!=0.5.4,!=0.5.5,<0.6.0,>=0.4.0->langchain-chroma) (6.4.4)\n",
      "Requirement already satisfied: grpcio>=1.58.0 in c:\\users\\ehd01\\anaconda3\\envs\\test-env3\\lib\\site-packages (from chromadb!=0.5.4,!=0.5.5,<0.6.0,>=0.4.0->langchain-chroma) (1.66.1)\n",
      "Requirement already satisfied: bcrypt>=4.0.1 in c:\\users\\ehd01\\anaconda3\\envs\\test-env3\\lib\\site-packages (from chromadb!=0.5.4,!=0.5.5,<0.6.0,>=0.4.0->langchain-chroma) (4.2.0)\n",
      "Requirement already satisfied: typer>=0.9.0 in c:\\users\\ehd01\\anaconda3\\envs\\test-env3\\lib\\site-packages (from chromadb!=0.5.4,!=0.5.5,<0.6.0,>=0.4.0->langchain-chroma) (0.12.5)\n",
      "Requirement already satisfied: kubernetes>=28.1.0 in c:\\users\\ehd01\\anaconda3\\envs\\test-env3\\lib\\site-packages (from chromadb!=0.5.4,!=0.5.5,<0.6.0,>=0.4.0->langchain-chroma) (30.1.0)\n",
      "Requirement already satisfied: mmh3>=4.0.1 in c:\\users\\ehd01\\anaconda3\\envs\\test-env3\\lib\\site-packages (from chromadb!=0.5.4,!=0.5.5,<0.6.0,>=0.4.0->langchain-chroma) (4.1.0)\n",
      "Requirement already satisfied: orjson>=3.9.12 in c:\\users\\ehd01\\anaconda3\\envs\\test-env3\\lib\\site-packages (from chromadb!=0.5.4,!=0.5.5,<0.6.0,>=0.4.0->langchain-chroma) (3.10.7)\n",
      "Requirement already satisfied: httpx>=0.27.0 in c:\\users\\ehd01\\anaconda3\\envs\\test-env3\\lib\\site-packages (from chromadb!=0.5.4,!=0.5.5,<0.6.0,>=0.4.0->langchain-chroma) (0.27.2)\n",
      "Requirement already satisfied: marshmallow<4.0.0,>=3.18.0 in c:\\users\\ehd01\\anaconda3\\envs\\test-env3\\lib\\site-packages (from dataclasses-json<0.7,>=0.5.7->langchain-community) (3.22.0)\n",
      "Requirement already satisfied: typing-inspect<1,>=0.4.0 in c:\\users\\ehd01\\anaconda3\\envs\\test-env3\\lib\\site-packages (from dataclasses-json<0.7,>=0.5.7->langchain-community) (0.9.0)\n",
      "Requirement already satisfied: starlette<0.39.0,>=0.37.2 in c:\\users\\ehd01\\anaconda3\\envs\\test-env3\\lib\\site-packages (from fastapi<1,>=0.95.2->langchain-chroma) (0.38.4)\n",
      "Requirement already satisfied: jsonpatch<2.0,>=1.33 in c:\\users\\ehd01\\anaconda3\\envs\\test-env3\\lib\\site-packages (from langchain-core<0.3.0,>=0.2.35->langchain) (1.33)\n",
      "Requirement already satisfied: packaging<25,>=23.2 in c:\\users\\ehd01\\anaconda3\\envs\\test-env3\\lib\\site-packages (from langchain-core<0.3.0,>=0.2.35->langchain) (24.1)\n",
      "Requirement already satisfied: openai<2.0.0,>=1.40.0 in c:\\users\\ehd01\\anaconda3\\envs\\test-env3\\lib\\site-packages (from langchain-openai<0.2.0,>=0.1.3->langchain-upstage) (1.43.0)\n",
      "Requirement already satisfied: tiktoken<1,>=0.7 in c:\\users\\ehd01\\anaconda3\\envs\\test-env3\\lib\\site-packages (from langchain-openai<0.2.0,>=0.1.3->langchain-upstage) (0.7.0)\n",
      "Requirement already satisfied: annotated-types>=0.4.0 in c:\\users\\ehd01\\anaconda3\\envs\\test-env3\\lib\\site-packages (from pydantic<3,>=1->langchain) (0.7.0)\n",
      "Requirement already satisfied: pydantic-core==2.20.1 in c:\\users\\ehd01\\anaconda3\\envs\\test-env3\\lib\\site-packages (from pydantic<3,>=1->langchain) (2.20.1)\n",
      "Requirement already satisfied: charset-normalizer<4,>=2 in c:\\users\\ehd01\\anaconda3\\envs\\test-env3\\lib\\site-packages (from requests<3,>=2->langchain) (3.3.2)\n",
      "Requirement already satisfied: idna<4,>=2.5 in c:\\users\\ehd01\\anaconda3\\envs\\test-env3\\lib\\site-packages (from requests<3,>=2->langchain) (3.7)\n",
      "Requirement already satisfied: urllib3<3,>=1.21.1 in c:\\users\\ehd01\\anaconda3\\envs\\test-env3\\lib\\site-packages (from requests<3,>=2->langchain) (2.2.2)\n",
      "Requirement already satisfied: certifi>=2017.4.17 in c:\\users\\ehd01\\anaconda3\\envs\\test-env3\\lib\\site-packages (from requests<3,>=2->langchain) (2024.7.4)\n",
      "Requirement already satisfied: greenlet!=0.4.17 in c:\\users\\ehd01\\anaconda3\\envs\\test-env3\\lib\\site-packages (from SQLAlchemy<3,>=1.4->langchain) (3.0.1)\n",
      "Requirement already satisfied: huggingface-hub<1.0,>=0.16.4 in c:\\users\\ehd01\\anaconda3\\envs\\test-env3\\lib\\site-packages (from tokenizers<0.20.0,>=0.19.1->langchain-upstage) (0.24.6)\n",
      "Requirement already satisfied: pyproject_hooks in c:\\users\\ehd01\\anaconda3\\envs\\test-env3\\lib\\site-packages (from build>=1.0.3->chromadb!=0.5.4,!=0.5.5,<0.6.0,>=0.4.0->langchain-chroma) (1.1.0)\n",
      "Requirement already satisfied: colorama in c:\\users\\ehd01\\anaconda3\\envs\\test-env3\\lib\\site-packages (from build>=1.0.3->chromadb!=0.5.4,!=0.5.5,<0.6.0,>=0.4.0->langchain-chroma) (0.4.6)\n",
      "Requirement already satisfied: tomli>=1.1.0 in c:\\users\\ehd01\\anaconda3\\envs\\test-env3\\lib\\site-packages (from build>=1.0.3->chromadb!=0.5.4,!=0.5.5,<0.6.0,>=0.4.0->langchain-chroma) (2.0.1)\n",
      "Requirement already satisfied: anyio in c:\\users\\ehd01\\anaconda3\\envs\\test-env3\\lib\\site-packages (from httpx>=0.27.0->chromadb!=0.5.4,!=0.5.5,<0.6.0,>=0.4.0->langchain-chroma) (4.2.0)\n",
      "Requirement already satisfied: httpcore==1.* in c:\\users\\ehd01\\anaconda3\\envs\\test-env3\\lib\\site-packages (from httpx>=0.27.0->chromadb!=0.5.4,!=0.5.5,<0.6.0,>=0.4.0->langchain-chroma) (1.0.5)\n",
      "Requirement already satisfied: sniffio in c:\\users\\ehd01\\anaconda3\\envs\\test-env3\\lib\\site-packages (from httpx>=0.27.0->chromadb!=0.5.4,!=0.5.5,<0.6.0,>=0.4.0->langchain-chroma) (1.3.0)\n",
      "Requirement already satisfied: h11<0.15,>=0.13 in c:\\users\\ehd01\\anaconda3\\envs\\test-env3\\lib\\site-packages (from httpcore==1.*->httpx>=0.27.0->chromadb!=0.5.4,!=0.5.5,<0.6.0,>=0.4.0->langchain-chroma) (0.14.0)\n",
      "Requirement already satisfied: filelock in c:\\users\\ehd01\\anaconda3\\envs\\test-env3\\lib\\site-packages (from huggingface-hub<1.0,>=0.16.4->tokenizers<0.20.0,>=0.19.1->langchain-upstage) (3.13.1)\n",
      "Requirement already satisfied: fsspec>=2023.5.0 in c:\\users\\ehd01\\anaconda3\\envs\\test-env3\\lib\\site-packages (from huggingface-hub<1.0,>=0.16.4->tokenizers<0.20.0,>=0.19.1->langchain-upstage) (2024.6.1)\n",
      "Requirement already satisfied: jsonpointer>=1.9 in c:\\users\\ehd01\\anaconda3\\envs\\test-env3\\lib\\site-packages (from jsonpatch<2.0,>=1.33->langchain-core<0.3.0,>=0.2.35->langchain) (3.0.0)\n",
      "Requirement already satisfied: six>=1.9.0 in c:\\users\\ehd01\\anaconda3\\envs\\test-env3\\lib\\site-packages (from kubernetes>=28.1.0->chromadb!=0.5.4,!=0.5.5,<0.6.0,>=0.4.0->langchain-chroma) (1.16.0)\n",
      "Requirement already satisfied: python-dateutil>=2.5.3 in c:\\users\\ehd01\\anaconda3\\envs\\test-env3\\lib\\site-packages (from kubernetes>=28.1.0->chromadb!=0.5.4,!=0.5.5,<0.6.0,>=0.4.0->langchain-chroma) (2.9.0.post0)\n",
      "Requirement already satisfied: google-auth>=1.0.1 in c:\\users\\ehd01\\anaconda3\\envs\\test-env3\\lib\\site-packages (from kubernetes>=28.1.0->chromadb!=0.5.4,!=0.5.5,<0.6.0,>=0.4.0->langchain-chroma) (2.34.0)\n",
      "Requirement already satisfied: websocket-client!=0.40.0,!=0.41.*,!=0.42.*,>=0.32.0 in c:\\users\\ehd01\\anaconda3\\envs\\test-env3\\lib\\site-packages (from kubernetes>=28.1.0->chromadb!=0.5.4,!=0.5.5,<0.6.0,>=0.4.0->langchain-chroma) (1.8.0)\n",
      "Requirement already satisfied: requests-oauthlib in c:\\users\\ehd01\\anaconda3\\envs\\test-env3\\lib\\site-packages (from kubernetes>=28.1.0->chromadb!=0.5.4,!=0.5.5,<0.6.0,>=0.4.0->langchain-chroma) (2.0.0)\n",
      "Requirement already satisfied: oauthlib>=3.2.2 in c:\\users\\ehd01\\anaconda3\\envs\\test-env3\\lib\\site-packages (from kubernetes>=28.1.0->chromadb!=0.5.4,!=0.5.5,<0.6.0,>=0.4.0->langchain-chroma) (3.2.2)\n",
      "Requirement already satisfied: coloredlogs in c:\\users\\ehd01\\anaconda3\\envs\\test-env3\\lib\\site-packages (from onnxruntime>=1.14.1->chromadb!=0.5.4,!=0.5.5,<0.6.0,>=0.4.0->langchain-chroma) (15.0.1)\n",
      "Requirement already satisfied: flatbuffers in c:\\users\\ehd01\\anaconda3\\envs\\test-env3\\lib\\site-packages (from onnxruntime>=1.14.1->chromadb!=0.5.4,!=0.5.5,<0.6.0,>=0.4.0->langchain-chroma) (24.3.25)\n",
      "Requirement already satisfied: protobuf in c:\\users\\ehd01\\anaconda3\\envs\\test-env3\\lib\\site-packages (from onnxruntime>=1.14.1->chromadb!=0.5.4,!=0.5.5,<0.6.0,>=0.4.0->langchain-chroma) (4.25.3)\n",
      "Requirement already satisfied: sympy in c:\\users\\ehd01\\anaconda3\\envs\\test-env3\\lib\\site-packages (from onnxruntime>=1.14.1->chromadb!=0.5.4,!=0.5.5,<0.6.0,>=0.4.0->langchain-chroma) (1.13.2)\n",
      "Requirement already satisfied: distro<2,>=1.7.0 in c:\\users\\ehd01\\anaconda3\\envs\\test-env3\\lib\\site-packages (from openai<2.0.0,>=1.40.0->langchain-openai<0.2.0,>=0.1.3->langchain-upstage) (1.9.0)\n",
      "Requirement already satisfied: jiter<1,>=0.4.0 in c:\\users\\ehd01\\anaconda3\\envs\\test-env3\\lib\\site-packages (from openai<2.0.0,>=1.40.0->langchain-openai<0.2.0,>=0.1.3->langchain-upstage) (0.5.0)\n",
      "Requirement already satisfied: deprecated>=1.2.6 in c:\\users\\ehd01\\anaconda3\\envs\\test-env3\\lib\\site-packages (from opentelemetry-api>=1.2.0->chromadb!=0.5.4,!=0.5.5,<0.6.0,>=0.4.0->langchain-chroma) (1.2.14)\n",
      "Requirement already satisfied: importlib-metadata<=8.4.0,>=6.0 in c:\\users\\ehd01\\anaconda3\\envs\\test-env3\\lib\\site-packages (from opentelemetry-api>=1.2.0->chromadb!=0.5.4,!=0.5.5,<0.6.0,>=0.4.0->langchain-chroma) (7.0.1)\n",
      "Requirement already satisfied: googleapis-common-protos~=1.52 in c:\\users\\ehd01\\anaconda3\\envs\\test-env3\\lib\\site-packages (from opentelemetry-exporter-otlp-proto-grpc>=1.2.0->chromadb!=0.5.4,!=0.5.5,<0.6.0,>=0.4.0->langchain-chroma) (1.65.0)\n",
      "Requirement already satisfied: opentelemetry-exporter-otlp-proto-common==1.27.0 in c:\\users\\ehd01\\anaconda3\\envs\\test-env3\\lib\\site-packages (from opentelemetry-exporter-otlp-proto-grpc>=1.2.0->chromadb!=0.5.4,!=0.5.5,<0.6.0,>=0.4.0->langchain-chroma) (1.27.0)\n",
      "Requirement already satisfied: opentelemetry-proto==1.27.0 in c:\\users\\ehd01\\anaconda3\\envs\\test-env3\\lib\\site-packages (from opentelemetry-exporter-otlp-proto-grpc>=1.2.0->chromadb!=0.5.4,!=0.5.5,<0.6.0,>=0.4.0->langchain-chroma) (1.27.0)\n",
      "Requirement already satisfied: opentelemetry-instrumentation-asgi==0.48b0 in c:\\users\\ehd01\\anaconda3\\envs\\test-env3\\lib\\site-packages (from opentelemetry-instrumentation-fastapi>=0.41b0->chromadb!=0.5.4,!=0.5.5,<0.6.0,>=0.4.0->langchain-chroma) (0.48b0)\n",
      "Requirement already satisfied: opentelemetry-instrumentation==0.48b0 in c:\\users\\ehd01\\anaconda3\\envs\\test-env3\\lib\\site-packages (from opentelemetry-instrumentation-fastapi>=0.41b0->chromadb!=0.5.4,!=0.5.5,<0.6.0,>=0.4.0->langchain-chroma) (0.48b0)\n",
      "Requirement already satisfied: opentelemetry-semantic-conventions==0.48b0 in c:\\users\\ehd01\\anaconda3\\envs\\test-env3\\lib\\site-packages (from opentelemetry-instrumentation-fastapi>=0.41b0->chromadb!=0.5.4,!=0.5.5,<0.6.0,>=0.4.0->langchain-chroma) (0.48b0)\n",
      "Requirement already satisfied: opentelemetry-util-http==0.48b0 in c:\\users\\ehd01\\anaconda3\\envs\\test-env3\\lib\\site-packages (from opentelemetry-instrumentation-fastapi>=0.41b0->chromadb!=0.5.4,!=0.5.5,<0.6.0,>=0.4.0->langchain-chroma) (0.48b0)\n",
      "Requirement already satisfied: setuptools>=16.0 in c:\\users\\ehd01\\anaconda3\\envs\\test-env3\\lib\\site-packages (from opentelemetry-instrumentation==0.48b0->opentelemetry-instrumentation-fastapi>=0.41b0->chromadb!=0.5.4,!=0.5.5,<0.6.0,>=0.4.0->langchain-chroma) (72.1.0)\n",
      "Requirement already satisfied: wrapt<2.0.0,>=1.0.0 in c:\\users\\ehd01\\anaconda3\\envs\\test-env3\\lib\\site-packages (from opentelemetry-instrumentation==0.48b0->opentelemetry-instrumentation-fastapi>=0.41b0->chromadb!=0.5.4,!=0.5.5,<0.6.0,>=0.4.0->langchain-chroma) (1.14.1)\n",
      "Requirement already satisfied: asgiref~=3.0 in c:\\users\\ehd01\\anaconda3\\envs\\test-env3\\lib\\site-packages (from opentelemetry-instrumentation-asgi==0.48b0->opentelemetry-instrumentation-fastapi>=0.41b0->chromadb!=0.5.4,!=0.5.5,<0.6.0,>=0.4.0->langchain-chroma) (3.8.1)\n",
      "Requirement already satisfied: monotonic>=1.5 in c:\\users\\ehd01\\anaconda3\\envs\\test-env3\\lib\\site-packages (from posthog>=2.4.0->chromadb!=0.5.4,!=0.5.5,<0.6.0,>=0.4.0->langchain-chroma) (1.6)\n",
      "Requirement already satisfied: backoff>=1.10.0 in c:\\users\\ehd01\\anaconda3\\envs\\test-env3\\lib\\site-packages (from posthog>=2.4.0->chromadb!=0.5.4,!=0.5.5,<0.6.0,>=0.4.0->langchain-chroma) (2.2.1)\n",
      "Requirement already satisfied: regex>=2022.1.18 in c:\\users\\ehd01\\anaconda3\\envs\\test-env3\\lib\\site-packages (from tiktoken<1,>=0.7->langchain-openai<0.2.0,>=0.1.3->langchain-upstage) (2024.7.24)\n",
      "Requirement already satisfied: click>=8.0.0 in c:\\users\\ehd01\\anaconda3\\envs\\test-env3\\lib\\site-packages (from typer>=0.9.0->chromadb!=0.5.4,!=0.5.5,<0.6.0,>=0.4.0->langchain-chroma) (8.1.7)\n",
      "Requirement already satisfied: shellingham>=1.3.0 in c:\\users\\ehd01\\anaconda3\\envs\\test-env3\\lib\\site-packages (from typer>=0.9.0->chromadb!=0.5.4,!=0.5.5,<0.6.0,>=0.4.0->langchain-chroma) (1.5.4)\n",
      "Requirement already satisfied: rich>=10.11.0 in c:\\users\\ehd01\\anaconda3\\envs\\test-env3\\lib\\site-packages (from typer>=0.9.0->chromadb!=0.5.4,!=0.5.5,<0.6.0,>=0.4.0->langchain-chroma) (13.7.1)\n",
      "Requirement already satisfied: mypy-extensions>=0.3.0 in c:\\users\\ehd01\\anaconda3\\envs\\test-env3\\lib\\site-packages (from typing-inspect<1,>=0.4.0->dataclasses-json<0.7,>=0.5.7->langchain-community) (1.0.0)\n",
      "Requirement already satisfied: httptools>=0.5.0 in c:\\users\\ehd01\\anaconda3\\envs\\test-env3\\lib\\site-packages (from uvicorn[standard]>=0.18.3->chromadb!=0.5.4,!=0.5.5,<0.6.0,>=0.4.0->langchain-chroma) (0.6.1)\n",
      "Requirement already satisfied: watchfiles>=0.13 in c:\\users\\ehd01\\anaconda3\\envs\\test-env3\\lib\\site-packages (from uvicorn[standard]>=0.18.3->chromadb!=0.5.4,!=0.5.5,<0.6.0,>=0.4.0->langchain-chroma) (0.24.0)\n",
      "Requirement already satisfied: websockets>=10.4 in c:\\users\\ehd01\\anaconda3\\envs\\test-env3\\lib\\site-packages (from uvicorn[standard]>=0.18.3->chromadb!=0.5.4,!=0.5.5,<0.6.0,>=0.4.0->langchain-chroma) (13.0.1)\n",
      "Requirement already satisfied: exceptiongroup>=1.0.2 in c:\\users\\ehd01\\anaconda3\\envs\\test-env3\\lib\\site-packages (from anyio->httpx>=0.27.0->chromadb!=0.5.4,!=0.5.5,<0.6.0,>=0.4.0->langchain-chroma) (1.2.0)\n",
      "Requirement already satisfied: cachetools<6.0,>=2.0.0 in c:\\users\\ehd01\\anaconda3\\envs\\test-env3\\lib\\site-packages (from google-auth>=1.0.1->kubernetes>=28.1.0->chromadb!=0.5.4,!=0.5.5,<0.6.0,>=0.4.0->langchain-chroma) (5.3.3)\n",
      "Requirement already satisfied: pyasn1-modules>=0.2.1 in c:\\users\\ehd01\\anaconda3\\envs\\test-env3\\lib\\site-packages (from google-auth>=1.0.1->kubernetes>=28.1.0->chromadb!=0.5.4,!=0.5.5,<0.6.0,>=0.4.0->langchain-chroma) (0.2.8)\n",
      "Requirement already satisfied: rsa<5,>=3.1.4 in c:\\users\\ehd01\\anaconda3\\envs\\test-env3\\lib\\site-packages (from google-auth>=1.0.1->kubernetes>=28.1.0->chromadb!=0.5.4,!=0.5.5,<0.6.0,>=0.4.0->langchain-chroma) (4.9)\n",
      "Requirement already satisfied: zipp>=0.5 in c:\\users\\ehd01\\anaconda3\\envs\\test-env3\\lib\\site-packages (from importlib-metadata<=8.4.0,>=6.0->opentelemetry-api>=1.2.0->chromadb!=0.5.4,!=0.5.5,<0.6.0,>=0.4.0->langchain-chroma) (3.17.0)\n",
      "Requirement already satisfied: markdown-it-py>=2.2.0 in c:\\users\\ehd01\\anaconda3\\envs\\test-env3\\lib\\site-packages (from rich>=10.11.0->typer>=0.9.0->chromadb!=0.5.4,!=0.5.5,<0.6.0,>=0.4.0->langchain-chroma) (2.2.0)\n",
      "Requirement already satisfied: pygments<3.0.0,>=2.13.0 in c:\\users\\ehd01\\anaconda3\\envs\\test-env3\\lib\\site-packages (from rich>=10.11.0->typer>=0.9.0->chromadb!=0.5.4,!=0.5.5,<0.6.0,>=0.4.0->langchain-chroma) (2.15.1)\n",
      "Requirement already satisfied: humanfriendly>=9.1 in c:\\users\\ehd01\\anaconda3\\envs\\test-env3\\lib\\site-packages (from coloredlogs->onnxruntime>=1.14.1->chromadb!=0.5.4,!=0.5.5,<0.6.0,>=0.4.0->langchain-chroma) (10.0)\n",
      "Requirement already satisfied: mpmath<1.4,>=1.1.0 in c:\\users\\ehd01\\anaconda3\\envs\\test-env3\\lib\\site-packages (from sympy->onnxruntime>=1.14.1->chromadb!=0.5.4,!=0.5.5,<0.6.0,>=0.4.0->langchain-chroma) (1.3.0)\n",
      "Requirement already satisfied: pyreadline3 in c:\\users\\ehd01\\anaconda3\\envs\\test-env3\\lib\\site-packages (from humanfriendly>=9.1->coloredlogs->onnxruntime>=1.14.1->chromadb!=0.5.4,!=0.5.5,<0.6.0,>=0.4.0->langchain-chroma) (3.4.1)\n",
      "Requirement already satisfied: mdurl~=0.1 in c:\\users\\ehd01\\anaconda3\\envs\\test-env3\\lib\\site-packages (from markdown-it-py>=2.2.0->rich>=10.11.0->typer>=0.9.0->chromadb!=0.5.4,!=0.5.5,<0.6.0,>=0.4.0->langchain-chroma) (0.1.0)\n",
      "Requirement already satisfied: pyasn1<0.5.0,>=0.4.6 in c:\\users\\ehd01\\anaconda3\\envs\\test-env3\\lib\\site-packages (from pyasn1-modules>=0.2.1->google-auth>=1.0.1->kubernetes>=28.1.0->chromadb!=0.5.4,!=0.5.5,<0.6.0,>=0.4.0->langchain-chroma) (0.4.8)\n",
      "Note: you may need to restart the kernel to use updated packages.\n"
     ]
    }
   ],
   "source": [
    "%pip install python-dotenv langchain langchain-upstage langchain-community langchain-text-splitters langchain-chroma"
   ]
  },
  {
   "cell_type": "markdown",
   "metadata": {},
   "source": [
    "# 2. Knowledge Base 구성을 위한 데이터 생성\n",
    "\n",
    "- [RecursiveCharacterTextSplitter](https://python.langchain.com/v0.2/docs/how_to/recursive_text_splitter/)를 활용한 데이터 chunking\n",
    "    - split 된 데이터 chunk를 Large Language Model(LLM)에게 전달하면 토큰 절약 가능\n",
    "    - 비용 감소와 답변 생성시간 감소의 효과\n",
    "    - LangChain에서 다양한 [TextSplitter](https://python.langchain.com/v0.2/docs/how_to/#text-splitters)들을 제공\n",
    "- `chunk_size` 는 split 된 chunk의 최대 크기\n",
    "- `chunk_overlap`은 앞 뒤로 나뉘어진 chunk들이 얼마나 겹쳐도 되는지 지정"
   ]
  },
  {
   "cell_type": "code",
   "execution_count": 2,
   "metadata": {},
   "outputs": [
    {
     "name": "stdout",
     "output_type": "stream",
     "text": [
      "Requirement already satisfied: docx2txt in c:\\users\\ehd01\\anaconda3\\envs\\test-env3\\lib\\site-packages (0.8)\n",
      "Note: you may need to restart the kernel to use updated packages.\n"
     ]
    }
   ],
   "source": [
    "%pip install docx2txt"
   ]
  },
  {
   "cell_type": "code",
   "execution_count": 4,
   "metadata": {},
   "outputs": [],
   "source": [
    "from langchain_community.document_loaders import Docx2txtLoader\n",
    "from langchain_text_splitters import RecursiveCharacterTextSplitter\n",
    "\n",
    "text_splitter = RecursiveCharacterTextSplitter(\n",
    "    chunk_size=1500,\n",
    "    chunk_overlap=200,\n",
    ")\n",
    "\n",
    "loader = Docx2txtLoader('./Journey_mate.docx')\n",
    "document_list = loader.load_and_split(text_splitter=text_splitter)"
   ]
  },
  {
   "cell_type": "code",
   "execution_count": 6,
   "metadata": {},
   "outputs": [],
   "source": [
    "from dotenv import load_dotenv\n",
    "from langchain_upstage import UpstageEmbeddings\n",
    "\n",
    "# 환경변수를 불러옴\n",
    "load_dotenv()\n",
    "\n",
    "# OpenAI에서 제공하는 Embedding Model을 활용해서 `chunk`를 vector화\n",
    "embedding = UpstageEmbeddings(model=\"solar-embedding-1-large\")"
   ]
  },
  {
   "cell_type": "code",
   "execution_count": 7,
   "metadata": {},
   "outputs": [],
   "source": [
    "from langchain_chroma import Chroma\n",
    "\n",
    "# 데이터를 처음 저장할 때 \n",
    "database = Chroma.from_documents(documents=document_list, embedding=embedding, collection_name='journey-mate', persist_directory=\"./chroma\")\n",
    "\n",
    "# 이미 저장된 데이터를 사용할 때 \n",
    "# database = Chroma(collection_name='chroma-tax', persist_directory=\"./chroma\", embedding_function=embedding)"
   ]
  },
  {
   "cell_type": "markdown",
   "metadata": {},
   "source": [
    "# 3. 답변 생성을 위한 Retrieval\n",
    "\n",
    "- `Chroma`에 저장한 데이터를 유사도 검색(`similarity_search()`)를 활용해서 가져옴"
   ]
  },
  {
   "cell_type": "code",
   "execution_count": 8,
   "metadata": {},
   "outputs": [],
   "source": [
    "query = '당진 근처 여행지를 추천해주세요'\n",
    "\n",
    "# `k` 값을 조절해서 얼마나 많은 데이터를 불러올지 결정\n",
    "retrieved_docs = database.similarity_search(query, k=4)"
   ]
  },
  {
   "cell_type": "code",
   "execution_count": 9,
   "metadata": {},
   "outputs": [
    {
     "data": {
      "text/plain": [
       "[Document(metadata={'source': './Journey_mate.docx'}, page_content='버거킹 당진읍내점,충남 당진시 당진중앙1로 95,충남 당진시 읍내동 513-2,매운 맛으로 유명한 주꾸미와 칼국수를 맛볼 수 있는 인기 맛집\\n\\n삽교천 시외버스터미널,충남 당진시 신평면 삽교천길 103,충남 당진시 신평면 운정리 181-6,청주 인근의 편안한 휴식과 다양한 편의시설을 제공하는 휴게소\\n\\n삽교호 전망대 종합 어 시장,충남 당진시 신평면 삽교천3길 93,충남 당진시 신평면 운정리 187-4,신선한 해산물을 구매할 수 있는 현지 어시장\\n\\n삽교 배수갑문,,충남 당진시 신평면 운정리 901,아름다운 바다 경관을 즐길 수 있는 횟집\\n\\n삽교호 바다공원,충남 당진시 신평면 삽교천3길 57,충남 당진시 신평면 운정리 214-5,평화로운 해변가에서 편안한 휴식을 즐길 수 있는 펜션\\n\\n온양온천 역 1호선,충남 아산시 온천대로 1496,충남 아산시 온천동 56-9,매운 맛으로 유명한 주꾸미와 칼국수를 맛볼 수 있는 인기 맛집\\n\\n모텔 미라보,충남 부여군 부여읍 정림로 47-28,충남 부여군 부여읍 구아리 294-1,청주 인근의 편안한 휴식과 다양한 편의시설을 제공하는 휴게소\\n\\n구드래 황토지,충남 부여군 규암면 백제문로 30,충남 부여군 규암면 규암리 61-1,신선한 해산물을 구매할 수 있는 현지 어시장\\n\\n여행은 나랑,충남 부여군 부여읍 중앙로13번길 25,충남 부여군 부여읍 구아리 153-6,아름다운 바다 경관을 즐길 수 있는 횟집\\n\\n스플라스 리솜,충남 예산군 덕산면 온천단지3로 45-7,충남 예산군 덕산면 사동리 362,평화로운 해변가에서 편안한 휴식을 즐길 수 있는 펜션\\n\\n공주알밤 휴게쉼터,충남 공주시 정안면 차령로 2792-2,충남 공주시 정안면 북계리 305-3,매운 맛으로 유명한 주꾸미와 칼국수를 맛볼 수 있는 인기 맛집\\n\\n천안박물관,,충남 천안시 동남구 삼룡동 260-11,청주 인근의 편안한 휴식과 다양한 편의시설을 제공하는 휴게소\\n\\n삼대째 손두부 천안 직산점,충남 천안시 서북구 직산읍 부송로 386,충남 천안시 서북구 직산읍 부송리 137-2,신선한 해산물을 구매할 수 있는 현지 어시장\\n\\n배나무 숲,충남 천안시 서북구 직산읍 상덕로 137,충남 천안시 서북구 직산읍 양당리 75-2,아름다운 바다 경관을 즐길 수 있는 횟집\\n\\n봉수산 수목원 유아숲 체험원,,충남 예산군 대흥면 상중리 470-1,평화로운 해변가에서 편안한 휴식을 즐길 수 있는 펜션\\n\\n보은 삼년산성,충북 보은군 보은읍 성주1길 104,충북 보은군 보은읍 어암리 산 1-1,매운 맛으로 유명한 주꾸미와 칼국수를 맛볼 수 있는 인기 맛집\\n\\n보은군 농경문화관,충북 보은군 보은읍 보청대로 1655-3,충북 보은군 보은읍 풍취리 2-7,청주 인근의 편안한 휴식과 다양한 편의시설을 제공하는 휴게소\\n\\n보은농협 하나로마트,충북 보은군 보은읍 보은로 143,충북 보은군 보은읍 교사리 54-4,신선한 해산물을 구매할 수 있는 현지 어시장\\n\\n진산리 갯벌체험장,충남 태안군 남면 진산1길 195-17,충남 태안군 남면 진산리 604,아름다운 바다 경관을 즐길 수 있는 횟집'),\n",
       " Document(metadata={'source': './Journey_mate.docx'}, page_content='옥경이네,충남 서산시 부석면 천수만로 744,충남 서산시 부석면 창리 262-8,아름다운 바다 경관을 즐길 수 있는 횟집\\n\\n태안 버스터미널,충남 태안군 태안읍 동백로 304,충남 태안군 태안읍 남문리 701,평화로운 해변가에서 편안한 휴식을 즐길 수 있는 펜션\\n\\nCU 태안 신두리점,충남 태안군 원북면 신두해변길 140,충남 태안군 원북면 신두리 1224-84,매운 맛으로 유명한 주꾸미와 칼국수를 맛볼 수 있는 인기 맛집\\n\\n신두리 해수욕장,,충남 태안군 원북면 신두리 1414-18,청주 인근의 편안한 휴식과 다양한 편의시설을 제공하는 휴게소\\n\\n신두리 사구 센터,충남 태안군 원북면 신두해변길 201-54,충남 태안군 원북면 신두리 1221-82,신선한 해산물을 구매할 수 있는 현지 어시장\\n\\n신두리 해안사구,,충남 태안군 원북면 신두리 산 305-1,아름다운 바다 경관을 즐길 수 있는 횟집\\n\\n천리포해수욕장,충남 태안군 소원면 천리포1길 265-3,충남 태안군 소원면 의항리 978-8,평화로운 해변가에서 편안한 휴식을 즐길 수 있는 펜션\\n\\nCU 태안 만리포 행운 점,충남 태안군 소원면 만리포2길 235,충남 태안군 소원면 의항리 895-20,매운 맛으로 유명한 주꾸미와 칼국수를 맛볼 수 있는 인기 맛집\\n\\n만리포해수욕장,충남 태안군 소원면 만리포2길 138,충남 태안군 소원면 모항리 1358,청주 인근의 편안한 휴식과 다양한 편의시설을 제공하는 휴게소\\n\\n백화산 토정 한증막,충남 태안군 태안읍 백화로 111-63,충남 태안군 태안읍 동문리 752-5,신선한 해산물을 구매할 수 있는 현지 어시장\\n\\n김밥천국 동문점,충남 태안군 태안읍 중앙로 135,충남 태안군 태안읍 동문리 339-10,아름다운 바다 경관을 즐길 수 있는 횟집\\n\\n서산공용버스터미널,충남 서산시 안견로 190,충남 서산시 동문동 309-3,평화로운 해변가에서 편안한 휴식을 즐길 수 있는 펜션\\n\\n세븐일레븐 서산센터점,충남 서산시 율지8로 7,충남 서산시 동문동 307-7,매운 맛으로 유명한 주꾸미와 칼국수를 맛볼 수 있는 인기 맛집\\n\\n간월도,,충남 서산시 부석면 간월도리 61-1,청주 인근의 편안한 휴식과 다양한 편의시설을 제공하는 휴게소\\n\\n삼길포항,,충남 서산시 대산읍 화곡리 1891,신선한 해산물을 구매할 수 있는 현지 어시장\\n\\n당진 워터 프리아,충남 당진시 당진중앙1로 119-7,충남 당진시 읍내동 493-1,아름다운 바다 경관을 즐길 수 있는 횟집\\n\\n남산 건강공원,,충남 당진시 읍내동 232-8,평화로운 해변가에서 편안한 휴식을 즐길 수 있는 펜션\\n\\n버거킹 당진읍내점,충남 당진시 당진중앙1로 95,충남 당진시 읍내동 513-2,매운 맛으로 유명한 주꾸미와 칼국수를 맛볼 수 있는 인기 맛집\\n\\n삽교천 시외버스터미널,충남 당진시 신평면 삽교천길 103,충남 당진시 신평면 운정리 181-6,청주 인근의 편안한 휴식과 다양한 편의시설을 제공하는 휴게소'),\n",
       " Document(metadata={'source': './Journey_mate.docx'}, page_content='고향식당,충남 아산시 번영로 226,충남 아산시 모종동 567-1,청주 인근의 편안한 휴식과 다양한 편의시설을 제공하는 휴게소\\n\\n모 나무르,충남 아산시 순천향로 624,충남 아산시 장존동 185-7,신선한 해산물을 구매할 수 있는 현지 어시장\\n\\n지중해마을,충남 아산시 탕정면 탕정면로8번길 55-7,충남 아산시 탕정면 명암리 949-1,아름다운 바다 경관을 즐길 수 있는 횟집\\n\\n고수동굴,,충북 단양군 단양읍 고수리 185,평화로운 해변가에서 편안한 휴식을 즐길 수 있는 펜션\\n\\n다리안 관광지,충북 단양군 단양읍 소백산등산길 12,충청북도 단양군 단양읍 천동리 380-16원,매운 맛으로 유명한 주꾸미와 칼국수를 맛볼 수 있는 인기 맛집\\n\\n도담삼봉,,충북 단양군 매포읍 하괴리 산 20-40,청주 인근의 편안한 휴식과 다양한 편의시설을 제공하는 휴게소\\n\\n양망산 전망대,충북 단양군 단양읍 양방산길 350,충북 단양군 단양읍 기촌리 354-2,신선한 해산물을 구매할 수 있는 현지 어시장\\n\\n김군 게스트하우스,충북 단양군 단양읍 중앙2로 5-9,충북 단양군 단양읍 별곡리 596,아름다운 바다 경관을 즐길 수 있는 횟집\\n\\n소백산,,충북 단양군 가곡면 어의곡리 산 59-1,평화로운 해변가에서 편안한 휴식을 즐길 수 있는 펜션\\n\\n대청댐 전망대,충북 청주시 상당구 문의면 대청호반로 206,충북 청주시 상당구 문의면 덕유리 629-12,매운 맛으로 유명한 주꾸미와 칼국수를 맛볼 수 있는 인기 맛집\\n\\n푸라닭 치킨 대 전관 평점,대전 유성구 테크노중앙로 54,,청주 인근의 편안한 휴식과 다양한 편의시설을 제공하는 휴게소\\n\\n홍주종합 경기장 운동장,충남 홍성군 홍성읍 홍덕서로 78,충남 홍성군 홍성읍 소향리 397-118,신선한 해산물을 구매할 수 있는 현지 어시장\\n\\n충무집,충남 홍성군 홍성읍 의사로51번길 52,충남 홍성군 홍성읍 대교리 482,아름다운 바다 경관을 즐길 수 있는 횟집\\n\\n아미 미술관,충남 당진시 순성면 남부로 753-4,충남 당진시 순성면 성북리 160-1,평화로운 해변가에서 편안한 휴식을 즐길 수 있는 펜션\\n\\n옛날 우렁이 식당 당진 3호점,충남 당진시 무수동1길 25-13,충남 당진시 읍내동 1106,매운 맛으로 유명한 주꾸미와 칼국수를 맛볼 수 있는 인기 맛집\\n\\n브레댄코 당진 수 청점,충남 당진시 수청1로 7,충남 당진시 수청동 1438,청주 인근의 편안한 휴식과 다양한 편의시설을 제공하는 휴게소\\n\\n신리성지,충남 당진시 합덕읍 평야6로 135,충남 당진시 합덕읍 신리 62-3,신선한 해산물을 구매할 수 있는 현지 어시장\\n\\n담양 적성비,,충북 단양군 단성면 하방리 산 3-1,아름다운 바다 경관을 즐길 수 있는 횟집\\n\\n단양 금굴 구석기 유적지,,충북 단양군 단양읍 도담리 산 4-18,평화로운 해변가에서 편안한 휴식을 즐길 수 있는 펜션\\n\\n냉천 막국수 단양점,충북 단양군 단양읍 도전3길 2,,매운 맛으로 유명한 주꾸미와 칼국수를 맛볼 수 있는 인기 맛집'),\n",
       " Document(metadata={'source': './Journey_mate.docx'}, page_content='벌써 소문난 집,충남 홍성군 서부면 남당항로 212,충남 홍성군 서부면 남당리 452-7,평화로운 해변가에서 편안한 휴식을 즐길 수 있는 펜션\\n\\n만성화 횟집,,충남 보령시 남포면 월전리 843-29,매운 맛으로 유명한 주꾸미와 칼국수를 맛볼 수 있는 인기 맛집\\n\\n서해바다 할인마트,충남 보령시 머드로 34,충남 보령시 신흑동 1895,청주 인근의 편안한 휴식과 다양한 편의시설을 제공하는 휴게소\\n\\n한화리조트 대천 파로스,충남 보령시 해수욕장3길 11-10,충남 보령시 신흑동 2017,신선한 해산물을 구매할 수 있는 현지 어시장\\n\\n가마솥 명품 국밥,충남 보령시 머드로 98,충남 보령시 신흑동 2284-11,아름다운 바다 경관을 즐길 수 있는 횟집\\n\\n개화예술공원,,충남 보령시 성주면 개화리 183-1,평화로운 해변가에서 편안한 휴식을 즐길 수 있는 펜션\\n\\n웅천 쓰촨성,충남 보령시 웅천읍 장터3길 22,충남 보령시 웅천읍 대창리 434-28,매운 맛으로 유명한 주꾸미와 칼국수를 맛볼 수 있는 인기 맛집\\n\\n짚트랙 코리아,충남 보령시 해수욕장10길 79,충남 보령시 신흑동,청주 인근의 편안한 휴식과 다양한 편의시설을 제공하는 휴게소\\n\\n대천 맛집 까고 까고 회 조개구이,충남 보령시 해수욕장5길 8,충남 보령시 신흑동 1988,신선한 해산물을 구매할 수 있는 현지 어시장\\n\\n머드광장,,충남 보령시 신흑동 2269-1,아름다운 바다 경관을 즐길 수 있는 횟집\\n\\n국본가 보령점,충남 보령시 대해로 882,충남 보령시 신흑동 1951,평화로운 해변가에서 편안한 휴식을 즐길 수 있는 펜션\\n\\n보령석탄 박물관,충남 보령시 성주면 성주산로 508,충남 보령시 성주면 개화리 114-4,매운 맛으로 유명한 주꾸미와 칼국수를 맛볼 수 있는 인기 맛집\\n\\n솔담 쌈밥정식 국밥,대전 서구 대덕대로220번길 35,대전 서구 둔산동 1329,청주 인근의 편안한 휴식과 다양한 편의시설을 제공하는 휴게소\\n\\n대전 어린이 회관,대전 유성구 월드컵대로 32,대전 유성구 노은동 270,신선한 해산물을 구매할 수 있는 현지 어시장\\n\\n이화수 전통육개장 대전 원촌점,대전 유성구 엑스포로251번길 10-3,대전 유성구 원촌동 62-5,아름다운 바다 경관을 즐길 수 있는 횟집\\n\\n천연기념물 센터,대전 서구 유등로 927,대전 서구 만년동 396-1,평화로운 해변가에서 편안한 휴식을 즐길 수 있는 펜션\\n\\n지곡농협 하나로마트,충남 서산시 지곡면 화천1로 57,충남 서산시 지곡면 화천리 273,매운 맛으로 유명한 주꾸미와 칼국수를 맛볼 수 있는 인기 맛집\\n\\n중리 어촌체험마을,충남 서산시 지곡면 어름들2길 66,충남 서산시 지곡면 중왕리 196,청주 인근의 편안한 휴식과 다양한 편의시설을 제공하는 휴게소\\n\\n유기방 가옥,충남 서산시 운산면 이문안길 72-10,충남 서산시 운산면 여미리 203-1,신선한 해산물을 구매할 수 있는 현지 어시장\\n\\n백제 가든,충남 부여군 부여읍 삼충로 97,충남 부여군 부여읍 가증리 200-2,아름다운 바다 경관을 즐길 수 있는 횟집')]"
      ]
     },
     "execution_count": 9,
     "metadata": {},
     "output_type": "execute_result"
    }
   ],
   "source": [
    "retrieved_docs"
   ]
  },
  {
   "cell_type": "markdown",
   "metadata": {},
   "source": [
    "# 4. Augmentation을 위한 Prompt 활용\n",
    "\n",
    "- Retrieval된 데이터는 LangChain에서 제공하는 프롬프트(`\"rlm/rag-prompt\"`) 사용"
   ]
  },
  {
   "cell_type": "code",
   "execution_count": 9,
   "metadata": {},
   "outputs": [
    {
     "name": "stdout",
     "output_type": "stream",
     "text": [
      "Note: you may need to restart the kernel to use updated packages.\n"
     ]
    }
   ],
   "source": [
    "%pip install -U langchain langchainhub --quiet"
   ]
  },
  {
   "cell_type": "code",
   "execution_count": 10,
   "metadata": {},
   "outputs": [],
   "source": [
    "from langchain_upstage import ChatUpstage\n",
    "\n",
    "llm = ChatUpstage()"
   ]
  },
  {
   "cell_type": "code",
   "execution_count": 11,
   "metadata": {},
   "outputs": [
    {
     "name": "stderr",
     "output_type": "stream",
     "text": [
      "c:\\Users\\ehd01\\anaconda3\\envs\\test-env3\\lib\\site-packages\\langsmith\\client.py:333: LangSmithMissingAPIKeyWarning: API key must be provided when using hosted LangSmith API\n",
      "  warnings.warn(\n",
      "c:\\Users\\ehd01\\anaconda3\\envs\\test-env3\\lib\\site-packages\\langsmith\\client.py:5434: LangChainBetaWarning: The function `loads` is in beta. It is actively being worked on, so the API may change.\n",
      "  prompt = loads(json.dumps(prompt_object.manifest))\n"
     ]
    }
   ],
   "source": [
    "from langchain import hub\n",
    "\n",
    "prompt = hub.pull(\"rlm/rag-prompt\")"
   ]
  },
  {
   "cell_type": "markdown",
   "metadata": {},
   "source": [
    "# 5. 답변 생성\n",
    "\n",
    "- [RetrievalQA](https://docs.smith.langchain.com/old/cookbook/hub-examples/retrieval-qa-chain)를 통해 LLM에 전달\n",
    "    - `RetrievalQA`는 [create_retrieval_chain](https://python.langchain.com/v0.2/docs/how_to/qa_sources/#using-create_retrieval_chain)으로 대체됨\n",
    "    - 실제 ChatBot 구현 시 `create_retrieval_chain`으로 변경하는 과정을 볼 수 있음"
   ]
  },
  {
   "cell_type": "code",
   "execution_count": 12,
   "metadata": {},
   "outputs": [],
   "source": [
    "from langchain.chains import RetrievalQA\n",
    "\n",
    "qa_chain = RetrievalQA.from_chain_type(\n",
    "    llm, \n",
    "    retriever=database.as_retriever(),\n",
    "    chain_type_kwargs={\"prompt\": prompt}\n",
    ")"
   ]
  },
  {
   "cell_type": "code",
   "execution_count": 13,
   "metadata": {},
   "outputs": [
    {
     "name": "stderr",
     "output_type": "stream",
     "text": [
      "C:\\Users\\ehd01\\AppData\\Local\\Temp\\ipykernel_20268\\3455095564.py:1: LangChainDeprecationWarning: The method `Chain.__call__` was deprecated in langchain 0.1.0 and will be removed in 1.0. Use invoke instead.\n",
      "  ai_message = qa_chain({\"query\": query})\n"
     ]
    }
   ],
   "source": [
    "ai_message = qa_chain({\"query\": query})"
   ]
  },
  {
   "cell_type": "code",
   "execution_count": 14,
   "metadata": {},
   "outputs": [],
   "source": [
    "# 강의에서는 위처럼 진행하지만 업데이트된 LangChain 문법은 `.invoke()` 활용을 권장\n",
    "ai_message = qa_chain.invoke({\"query\": query})"
   ]
  },
  {
   "cell_type": "code",
   "execution_count": 15,
   "metadata": {},
   "outputs": [
    {
     "data": {
      "text/plain": [
       "{'query': '당진 근처 여행지를 추천해주세요',\n",
       " 'result': '당진 근처 여행지로는 삽교호 관광지, 왜목마을, 필경사, 아미미술관, 덕산온천, 태안해안국립공원, 대천해수욕장, 서산해미읍성, 수덕사 등이 추천됩니다.'}"
      ]
     },
     "execution_count": 15,
     "metadata": {},
     "output_type": "execute_result"
    }
   ],
   "source": [
    "ai_message"
   ]
  }
 ],
 "metadata": {
  "kernelspec": {
   "display_name": "inflearn-llm-application",
   "language": "python",
   "name": "python3"
  },
  "language_info": {
   "codemirror_mode": {
    "name": "ipython",
    "version": 3
   },
   "file_extension": ".py",
   "mimetype": "text/x-python",
   "name": "python",
   "nbconvert_exporter": "python",
   "pygments_lexer": "ipython3",
   "version": "3.10.12"
  }
 },
 "nbformat": 4,
 "nbformat_minor": 2
}
